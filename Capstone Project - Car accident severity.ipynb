{
 "cells": [
  {
   "cell_type": "markdown",
   "metadata": {},
   "source": [
    "# Introduction/Business Problem"
   ]
  },
  {
   "cell_type": "markdown",
   "metadata": {},
   "source": [
    "A navigation app wants to distinguish itself from its competitors and gain market share by offering users a \"safest route\" option. When this option is selected, a route is specifically designed to circumvent locations where severe accidents are more likely to occur given the junction type and road, weather, and light conditions. For this purpose, a machine learning model is developed."
   ]
  },
  {
   "cell_type": "markdown",
   "metadata": {},
   "source": [
    "# Data"
   ]
  },
  {
   "cell_type": "markdown",
   "metadata": {},
   "source": [
    "The data consist of a target variable: \n",
    "-\t\"SEVERITYCODE\": the severity of the collision, namely, a 1 indicates that the collision has caused an injury and a 0 indicates property damage only (no injuries).\n",
    "\n",
    "And several independent variables:\n",
    "-\t\"JUNCTIONTYPE\": the type of junction at which the collision took place (e.g. \"at intersection\").\n",
    "-\t\"ROADCOND\": the condition of the road during the collision (e.g. wet/dry). \n",
    "-\t\"LIGHTCOND\": the light conditions during the collision (e.g. \"day light\"/\"dark - street lights on\").\n",
    "-\t\"WEATHER\": a description of the weather conditions during the time of the collision (e.g. clear/overcast/raining)."
   ]
  },
  {
   "cell_type": "code",
   "execution_count": null,
   "metadata": {},
   "outputs": [],
   "source": []
  }
 ],
 "metadata": {
  "kernelspec": {
   "display_name": "Python [conda env:Env_ADS_Capstone]",
   "language": "python",
   "name": "conda-env-Env_ADS_Capstone-py"
  },
  "language_info": {
   "codemirror_mode": {
    "name": "ipython",
    "version": 3
   },
   "file_extension": ".py",
   "mimetype": "text/x-python",
   "name": "python",
   "nbconvert_exporter": "python",
   "pygments_lexer": "ipython3",
   "version": "3.7.7"
  }
 },
 "nbformat": 4,
 "nbformat_minor": 2
}
